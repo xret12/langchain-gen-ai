{
 "cells": [
  {
   "cell_type": "code",
   "execution_count": 1,
   "metadata": {},
   "outputs": [
    {
     "data": {
      "text/plain": [
       "'c:\\\\Users\\\\RETRETA\\\\Documents\\\\Python\\\\ML Upskill\\\\gen-ai-tuts\\\\langchain-gen-ai\\\\chain'"
      ]
     },
     "execution_count": 1,
     "metadata": {},
     "output_type": "execute_result"
    }
   ],
   "source": [
    "%pwd"
   ]
  },
  {
   "cell_type": "code",
   "execution_count": 3,
   "metadata": {},
   "outputs": [
    {
     "data": {
      "text/plain": [
       "[Document(page_content='                                                                                                               e-ISSN: 2582 -5208 \\nInternatio nal  Research Journal  of  Modernization in Engineering Technology  and  Science  \\n( Peer -Reviewed, Open Access, Fully Refereed International Journal )  \\nVolume:05/Issue:07/July -2023                   Impact Factor - 7.868                                    www .irjmets.com                        \\nwww.irjmets.com                               @International Research Journal of Modernization in Engineering, Technology and Science  \\n [2796 ] \\nLANGCHAIN -POWERED VIRTUAL ASSISTANT FOR PDF  \\nCOMMUNICATION  \\nNR Tejaswini*1, Vidya S*2, Dr. T Vijaya Kumar*3 \\n*1Student , Master Of Computer Applications , Bangalore Institute Of Technology , Bangalore , India . \\n*2Assistant  Professor , Master Of Computer Applications , Bangalore Institute Of  \\nTechnology , Bangalore , India . \\n*3Professor , Master Of Computer Applications , Bangalore Institute Of Technology , Bangalore , India . \\nDOI : https://www.doi.org/10.56726/IRJMETS43587  \\nABSTRACT  \\nDue to the unstructured nature of the PDF document format and the requirement for precise and pertinent \\nsearch results, querying a PDF can take time and effort. LangChain overcomes these challenges by utilizing \\nadvanced natural language processing algorithms that analyze the content of the PDFs and extract essential \\ninformation. To improve the search experience, it uses effective indexing and retrieval techniques, movable \\nfilters  and a simple search int erface. LangChain also allows users to save queries, create bookmarks  and \\nannotate important sections, enabling efficient retrieval of relevant information from PDF documents. The \\nfeatures of LangChain increase overall efficiency and makes PDF querying muc h easier and simpler.  \\nKeywords : LangChain, Querying PDF, Machine Translation, Streamlit.  \\nI. INTRODUCTION  \\nThe increasing prevalence and usage of digital products have created challenges in searching and retrieving \\ninformation from PDF documents. However, a revolutionary tool called LangChain, built on Natural Language \\nProcessing (NLP) and Large Language Models (LLM), addresses these challenges. LangChain simplifies the \\nquerying process and information extraction from PDFs using advanced NLP algorithms. To cr eate a user -\\nfriendly interface, LangChain utilizes Streamlit, a web application framework that eliminates the need for \\nexpertise in other web development frameworks like HTML and CSS. Streamlit enables the seamless \\ndeployment of models with minimal coding effort. With LangChain and Streamlit, users can easily interact with \\nPDFs, making document search and retrieval significantly more convenient.  The PDF Query App Project uses \\nLanguage Models (LLMs) and LangChain, a cutting -edge language processing tool, to transform how users \\ninteract with PDF documents. By allowing users to have interactive conversations with PDF documents, this \\nproject solves the fundamental drawbacks of conventional PDF readers. This description highlights the problem \\nstatement and the so lution while also giving a general overview of the project.  \\nII. LITRATURE SURVEY  \\nThe literature review for the project \"LangChain PDF Query\" focuses on exploring relevant research and \\ntechnologies related to language models, natural language processing, AI advancements  and query systems.  \\nJonas Gehring et .al.,[1] In the realm of sequence -to-sequence learning, presented \"Convolutional Sequence to \\nSequence Learning,\" which showcased a novel approach to modeling sequences using convolutional neural \\nnetworks, of fering insights into how language structures can be better understood and represented.  Attention \\nmechanisms have revolutionized language models, as demonstrated in \"Attention Is All You Need\" by Ashish \\nVaswani et . al., [2]. Their transformative \"transforme r\" architecture enabled highly efficient and effective \\nattention -based models for various NLP tasks, paving the way for advanced query systems.  While exploring AI \\napplications in the legal domain, Jules Ioannidis et al. , [3] introduced \"Gracenote.ai,\" an A I system designed for \\nregulatory compliance. This research highlights the potential of generative AI in addressing complex legal \\nchallenges.  For specific use cases, Na He et al. , [4] showed that \"Chat GPT -4\" outperformed GPT -3.5 in drug \\ninformation queries , indicating the continuous advancements in language models for domain -specific \\ninformation retrieval.  Efficient keyword search over encrypted cloud data is crucial for data privacy and \\nsecurity. Anuradha & Patil ., [5] presented an approach for such search, contributing insights into secure \\ninformation retrieval in cloud environments.  ', metadata={'source': '../rag/langchain-assist.pdf', 'page': 0}),\n",
       " Document(page_content='                                                                                                               e-ISSN: 2582 -5208 \\nInternatio nal  Research Journal  of  Modernization in Engineering Technology  and  Science  \\n( Peer -Reviewed, Open Access, Fully Refereed International Journal )  \\nVolume:05/Issue:07/July -2023                   Impact Factor - 7.868                                    www .irjmets.com                        \\nwww.irjmets.com                               @International Research Journal of Modernization in Engineering, Technology and Science  \\n [2797 ] \\nAddressing the challenges of big data, Madhu Nashipudimath et al. , [6] proposed an integration and indexing \\nmethod based on feature patte rns and semantic analysis. This research offers valuable techniques to efficiently \\nmanage and query large datasets.  In the scientific literature domain, Zhu and Cole ., [7] developed a tool for \\nreading scientific text and interpreting metadata from typeset literature in PDF format. This tool demonstrates \\nadvancements in information extraction from scientific documents.  To implement the project, it is essential to \\nconsider the platforms and tools available. Streamlit ., [8] provides a user -friendly interface f or data \\nvisualization and interaction, while Python LangChain ., [9] offers comprehensive documentation for integrating \\nlanguage models into applications.  OpenAI\\'s models [10],  including GPT -3.5, serve as a crucial foundation for \\nlanguage -based AI applicati ons. Adith Sreeram A S and Pappuri Jithendra Sai , [11]  presented an effective query \\nsystem using language models and LangChain, which can be insightful for developing the LangChain PDF Query.  \\nIn conclusion, this literature review has provided a comprehensi ve understanding of the research and \\ntechnologies relevant to the project \"LangChain PDF Query.\" It covered sequence -to-sequence learning, \\nattention -based models, AI in legal compliance, domain -specific information retrieval, secure cloud data search, \\nbig data processing, scientific literature analysis  and essential tools for implementation. These valuable insights \\nwill guide the development of an efficient and effective query system using LangChain and language models, \\ncontributing to the advancement of AI -driven natural language processing.  \\nIII. METHODOLOGY  \\nLanChain helps us with the querying process and extracting information from the PDF based on the prompt \\nsent by the user. For the sake of convenience, a web application is developed that can retrieve accurate \\ninformation based on the user’s input alone.  \\n \\nFigure 1. Application Architecture  \\n2.1 Steps followed in the Application Architechture:  \\nStep l: The Open Al Large Language Models and The Open Al Embeddings acts as the back -end of our \\napplication.  \\nStep II: Here we will use Streamlit, which will help us to build interactive and beautiful interface for our web \\napplication.  \\nStep Ill: Streamlit will also take care of our Front -end part where we can get the text inputs and messages and \\nalso the PDF files from the user.  \\n', metadata={'source': '../rag/langchain-assist.pdf', 'page': 1}),\n",
       " Document(page_content='                                                                                                               e-ISSN: 2582 -5208 \\nInternatio nal  Research Journal  of  Modernization in Engineering Technology  and  Science  \\n( Peer -Reviewed, Open Access, Fully Refereed International Journal )  \\nVolume:05/Issue:07/July -2023                   Impact Factor - 7.868                                    www .irjmets.com                        \\nwww.irjmets.com                               @International Research Journal of Modernization in Engineering, Technology and Science  \\n [2798 ] \\n \\nFigure 2. Working Process.  \\nWith the help of Fig  2 we can understand how Larg e Language Model helps the user to get the accurate results.  \\n2.2 Streamlit  \\nStreamlit is an open -source library that allows us to unique web apps for Machine Learning and Data Science \\nprojects fast and efficient. Streamlit is an open -source library that allows us to unique web apps for Machine \\nLearning and Data Science projects fast and efficient. With this framework, you can easily build interactive \\nvisualizat ion plots, models  and dashboards without having a worry about the underlying web framework or \\ndeployment infrastructure used in the backend. It also provides the users to add widgets which helps the users \\nthe interact with the web app and the models that w e used. This framework also integrates the popular python \\nand machine learning packages such as NumPy, Pandas, Matplotlib, Seaborn, Scikit -learn and TensorFlow, \\nwhich enables us to quickly build and deploy our trained models. Features of Streamlit:  \\nUser -friendly:  Streamlit offers an easy -to-use interface that requires little scripting to build dynamic data apps.  \\nRapid prototyping:  Streamlit is made for rapid prototyping, allowing developers and data scientists to test out \\nvarious concepts and create comp letely functional apps.  \\nData Cache:  The data cache facilitates and accelerates computational workflows.  \\nReal -time collaboration is made possible by Streamlit, allowing several users to work on the same project at \\nonce. Widgets that enable for real -time d ata editing and exploration include sliders, dropdown menus  and \\ncheckboxes, among a vast variety of interactive widgets that Streamlit offers.  \\nIV. RESULTS AND DISCUSSIO N \\n \\nFigure 3 . Interface of web Tool  \\nThis is how the interface of our web Tool will look like. Now the user can click on browse files and can upload a \\nfile from their device under 200 Mega Bytes. After few minutes of processing, we will get an additional in box \\nwhere we can give in our query.  \\n', metadata={'source': '../rag/langchain-assist.pdf', 'page': 2}),\n",
       " Document(page_content='                                                                                                               e-ISSN: 2582 -5208 \\nInternatio nal  Research Journal  of  Modernization in Engineering Technology  and  Science  \\n( Peer -Reviewed, Open Access, Fully Refereed International Journal )  \\nVolume:05/Issue:07/July -2023                   Impact Factor - 7.868                                    www .irjmets.com                        \\nwww.irjmets.com                               @International Research Journal of Modernization in Engineering, Technology and Science  \\n [2799 ] \\n \\nFigure 4 . Image of web Tool with input query box.  \\nSo, now we got our input query box and now we can ask questions on the PDF that we have uploaded. Here I \\nhave uploaded a PDF based on Cloud Computing. Now you can ask differe nt questions like “What is cloud \\ncomputing?”, “What are the Architectural styles based on independent components?” and also differentiate \\nbetween questions.  \\n \\nFigure 5 . The Output that we got for our 1st Query  \\n \\nFigure 6 . The Output that we got for our 2 nd Query  \\n', metadata={'source': '../rag/langchain-assist.pdf', 'page': 3}),\n",
       " Document(page_content='                                                                                                               e-ISSN: 2582 -5208 \\nInternatio nal  Research Journal  of  Modernization in Engineering Technology  and  Science  \\n( Peer -Reviewed, Open Access, Fully Refereed International Journal )  \\nVolume:05/Issue:07/July -2023                   Impact Factor - 7.868                                    www .irjmets.com                        \\nwww.irjmets.com                               @International Research Journal of Modernization in Engineering, Technology and Science  \\n [2800 ] \\nHere we got our output for our 1st and 2nd query which is “What is Cloud Computing?” and “What are the \\nArchitectural styles based on independent components?” our Large Language Model went through file and gave \\nan accurate result on the query given.  \\n \\nFigure 7 . The output we got for Different Question  \\nThe output \"I don\\'t know the answer to  the question\" indicates that the Large Language Model couldn\\'t find an \\naccurate response to the query \"what is big data analytics?\" within the provided PDF. Despite analyzing the \\ncontent of the file, the model couldn\\'t retrieve a satisfactory result in relation to the specific query.  \\nV. CONCLUSION  \\nThe Tool that leverages LangChain, Large Language Models  and Streamlit to streamline the extraction of \\npertinent information from PDFs. This innovative solution significantly simplifies and enhances the process, \\nallowing users to retrieve any desired information from PDF documents while saving ti me and effort. By \\nintegrating LangChain technology, the app introduces a heightened level of efficiency and accuracy to the \\nquerying process, making it an invaluable tool for individuals working with PDFs. Users can effortlessly extract \\nrelevant data, impr oving productivity and reducing the manual effort traditionally required for PDF document \\nanalysis. The user -friendly interface and intuitive features provided by Streamlit further enhance the overall \\nuser experience. Our web application empowers users to efficiently navigate and retrieve information from \\nPDFs, transforming the way PDF querying is performed and revolutionizing the accessibility and usability of \\nPDF documents.  \\nVI. REFERENCES  \\n[1] Jonas Gehring,  Michael Auli,  David Grangier,  Denis Yarats,  Yann N. Dauphin: “Convolutional Sequence \\nto Sequence Learning”, arXiv: [v1] Mon, 8 May 2017 23:25:30 UTC (1,489 KB) [v2]  Fri,12May 2017 \\n16:14:26 UTC (492 KB) [v3]  Tue, 25 Jul 2017 01:40:57 UTC (492 KB).  \\n[2] Ashish  Vaswani, Noam Shazeer Niki Pannar, Jakob Llion Jones, Aidan N. Gomez, Lukasz Kaiser, Illia \\nPolosukhin: “Attention Is All You Need” arXiv: [v1] Mon, 12 Jun 2017 17:57:34 UTC (1,102 \\nKB)[v2]  Mon, 19 Jun 2017  16:49:45 UTC (1,125 KB) [v3]  Tue, 20 Jun 2017 05:20:02 UTC (1,125 \\nKB)[v4]  Fri, 30 Jun 2017 17:29:30 UTC (1,124 KB ) \\n[3] Jules Ioannidis, Joshua Harper, Min g Sheng Quah I and Dan Hunter I: “Gracenote.ai: Legal Generative AI \\nfor Regulatory Compliance” v1 Gracenote -ai- Melboume Australia v2 The Dlckson Poon School of Law, \\nKing\\'s College London, United Kingdom June 19, 2023.  \\n[4] Na He, Yingying Yan, Ziyang Wul C heng, Fang Liu:” Chat GPT -4 significantly surpasses GPT -3.5 in drug \\ninformation queries”, National Library of Medicine, June 2023.  \\n[5] Anuradha & Patil, G A (2016):” Efficient Keyword Search over Encrypted Cloud Data - Procedia \\nComputer Science.”, Science  Direct, Volume 78, 2016, Pages 139 -145,23 -02-2016.  \\n', metadata={'source': '../rag/langchain-assist.pdf', 'page': 4}),\n",
       " Document(page_content='                                                                                                               e-ISSN: 2582 -5208 \\nInternatio nal  Research Journal  of  Modernization in Engineering Technology  and  Science  \\n( Peer -Reviewed, Open Access, Fully Refereed International Journal )  \\nVolume:05/Issue:07/July -2023                   Impact Factor - 7.868                                    www .irjmets.com                        \\nwww.irjmets.com                               @International Research Journal of Modernization in Engineering, Technology and Science  \\n [2801 ] \\n[6] Madhu Nashipudimath, Subhash Shinde, Jayshree Jain: “An efficient integration and indexing method \\nbased on feature pattens and semantic analysis for big data.”, Research Gate,June 2020.  \\n[7] Zhu, Miao & Cole, Jacqueline. (2022): “A Tool for Reading Scientific Text and Interpreting Metadata \\nfrom the Typeset Literature in the Portable Document Format.” Joumal of Chemical Information and \\nModeling, March 29, 2022.  \\n[8] https://streamlit.io/ , May 2023.  \\n[9] https://python.langchain.com/docs/get_started/introduction.html , April 2023.  \\n[10] http s://platform.openai.com/docs/models , June 2023.  \\n[11] Adith Sreeram A S, Pappuri Jithendra Sai: “An Effective Query System Using LLMs and \\nLangChain”,  IJERT, olume 12, Issue 06 (June 2023).  \\n \\n ', metadata={'source': '../rag/langchain-assist.pdf', 'page': 5})]"
      ]
     },
     "execution_count": 3,
     "metadata": {},
     "output_type": "execute_result"
    }
   ],
   "source": [
    "from langchain_community.document_loaders import PyPDFLoader\n",
    "\n",
    "pdf_path = \"../rag/langchain-assist.pdf\"\n",
    "loader = PyPDFLoader(pdf_path)\n",
    "\n",
    "docs = loader.load()\n",
    "docs"
   ]
  },
  {
   "cell_type": "code",
   "execution_count": 4,
   "metadata": {},
   "outputs": [
    {
     "data": {
      "text/plain": [
       "[Document(page_content='e-ISSN: 2582 -5208 \\nInternatio nal  Research Journal  of  Modernization in Engineering Technology  and  Science  \\n( Peer -Reviewed, Open Access, Fully Refereed International Journal )  \\nVolume:05/Issue:07/July -2023                   Impact Factor - 7.868                                    www .irjmets.com                        \\nwww.irjmets.com                               @International Research Journal of Modernization in Engineering, Technology and Science  \\n [2796 ] \\nLANGCHAIN -POWERED VIRTUAL ASSISTANT FOR PDF  \\nCOMMUNICATION  \\nNR Tejaswini*1, Vidya S*2, Dr. T Vijaya Kumar*3 \\n*1Student , Master Of Computer Applications , Bangalore Institute Of Technology , Bangalore , India . \\n*2Assistant  Professor , Master Of Computer Applications , Bangalore Institute Of  \\nTechnology , Bangalore , India .', metadata={'source': '../rag/langchain-assist.pdf', 'page': 0}),\n",
       " Document(page_content='*3Professor , Master Of Computer Applications , Bangalore Institute Of Technology , Bangalore , India . \\nDOI : https://www.doi.org/10.56726/IRJMETS43587  \\nABSTRACT  \\nDue to the unstructured nature of the PDF document format and the requirement for precise and pertinent \\nsearch results, querying a PDF can take time and effort. LangChain overcomes these challenges by utilizing \\nadvanced natural language processing algorithms that analyze the content of the PDFs and extract essential \\ninformation. To improve the search experience, it uses effective indexing and retrieval techniques, movable \\nfilters  and a simple search int erface. LangChain also allows users to save queries, create bookmarks  and \\nannotate important sections, enabling efficient retrieval of relevant information from PDF documents. The \\nfeatures of LangChain increase overall efficiency and makes PDF querying muc h easier and simpler.  \\nKeywords : LangChain, Querying PDF, Machine Translation, Streamlit.', metadata={'source': '../rag/langchain-assist.pdf', 'page': 0}),\n",
       " Document(page_content='I. INTRODUCTION  \\nThe increasing prevalence and usage of digital products have created challenges in searching and retrieving \\ninformation from PDF documents. However, a revolutionary tool called LangChain, built on Natural Language \\nProcessing (NLP) and Large Language Models (LLM), addresses these challenges. LangChain simplifies the \\nquerying process and information extraction from PDFs using advanced NLP algorithms. To cr eate a user -\\nfriendly interface, LangChain utilizes Streamlit, a web application framework that eliminates the need for \\nexpertise in other web development frameworks like HTML and CSS. Streamlit enables the seamless \\ndeployment of models with minimal coding effort. With LangChain and Streamlit, users can easily interact with \\nPDFs, making document search and retrieval significantly more convenient.  The PDF Query App Project uses \\nLanguage Models (LLMs) and LangChain, a cutting -edge language processing tool, to transform how users', metadata={'source': '../rag/langchain-assist.pdf', 'page': 0}),\n",
       " Document(page_content='interact with PDF documents. By allowing users to have interactive conversations with PDF documents, this \\nproject solves the fundamental drawbacks of conventional PDF readers. This description highlights the problem \\nstatement and the so lution while also giving a general overview of the project.  \\nII. LITRATURE SURVEY  \\nThe literature review for the project \"LangChain PDF Query\" focuses on exploring relevant research and \\ntechnologies related to language models, natural language processing, AI advancements  and query systems.  \\nJonas Gehring et .al.,[1] In the realm of sequence -to-sequence learning, presented \"Convolutional Sequence to \\nSequence Learning,\" which showcased a novel approach to modeling sequences using convolutional neural \\nnetworks, of fering insights into how language structures can be better understood and represented.  Attention \\nmechanisms have revolutionized language models, as demonstrated in \"Attention Is All You Need\" by Ashish', metadata={'source': '../rag/langchain-assist.pdf', 'page': 0}),\n",
       " Document(page_content='Vaswani et . al., [2]. Their transformative \"transforme r\" architecture enabled highly efficient and effective \\nattention -based models for various NLP tasks, paving the way for advanced query systems.  While exploring AI \\napplications in the legal domain, Jules Ioannidis et al. , [3] introduced \"Gracenote.ai,\" an A I system designed for \\nregulatory compliance. This research highlights the potential of generative AI in addressing complex legal \\nchallenges.  For specific use cases, Na He et al. , [4] showed that \"Chat GPT -4\" outperformed GPT -3.5 in drug \\ninformation queries , indicating the continuous advancements in language models for domain -specific \\ninformation retrieval.  Efficient keyword search over encrypted cloud data is crucial for data privacy and \\nsecurity. Anuradha & Patil ., [5] presented an approach for such search, contributing insights into secure \\ninformation retrieval in cloud environments.', metadata={'source': '../rag/langchain-assist.pdf', 'page': 0})]"
      ]
     },
     "execution_count": 4,
     "metadata": {},
     "output_type": "execute_result"
    }
   ],
   "source": [
    "from langchain_text_splitters import RecursiveCharacterTextSplitter\n",
    "\n",
    "text_splitter = RecursiveCharacterTextSplitter(chunk_size=1000, chunk_overlap=20)\n",
    "text_splitter.split_documents(docs)[:5]"
   ]
  },
  {
   "cell_type": "code",
   "execution_count": 5,
   "metadata": {},
   "outputs": [
    {
     "data": {
      "text/plain": [
       "[Document(page_content='e-ISSN: 2582 -5208 \\nInternatio nal  Research Journal  of  Modernization in Engineering Technology  and  Science  \\n( Peer -Reviewed, Open Access, Fully Refereed International Journal )  \\nVolume:05/Issue:07/July -2023                   Impact Factor - 7.868                                    www .irjmets.com                        \\nwww.irjmets.com                               @International Research Journal of Modernization in Engineering, Technology and Science  \\n [2796 ] \\nLANGCHAIN -POWERED VIRTUAL ASSISTANT FOR PDF  \\nCOMMUNICATION  \\nNR Tejaswini*1, Vidya S*2, Dr. T Vijaya Kumar*3 \\n*1Student , Master Of Computer Applications , Bangalore Institute Of Technology , Bangalore , India . \\n*2Assistant  Professor , Master Of Computer Applications , Bangalore Institute Of  \\nTechnology , Bangalore , India .', metadata={'source': '../rag/langchain-assist.pdf', 'page': 0}),\n",
       " Document(page_content='*3Professor , Master Of Computer Applications , Bangalore Institute Of Technology , Bangalore , India . \\nDOI : https://www.doi.org/10.56726/IRJMETS43587  \\nABSTRACT  \\nDue to the unstructured nature of the PDF document format and the requirement for precise and pertinent \\nsearch results, querying a PDF can take time and effort. LangChain overcomes these challenges by utilizing \\nadvanced natural language processing algorithms that analyze the content of the PDFs and extract essential \\ninformation. To improve the search experience, it uses effective indexing and retrieval techniques, movable \\nfilters  and a simple search int erface. LangChain also allows users to save queries, create bookmarks  and \\nannotate important sections, enabling efficient retrieval of relevant information from PDF documents. The \\nfeatures of LangChain increase overall efficiency and makes PDF querying muc h easier and simpler.  \\nKeywords : LangChain, Querying PDF, Machine Translation, Streamlit.', metadata={'source': '../rag/langchain-assist.pdf', 'page': 0}),\n",
       " Document(page_content='I. INTRODUCTION  \\nThe increasing prevalence and usage of digital products have created challenges in searching and retrieving \\ninformation from PDF documents. However, a revolutionary tool called LangChain, built on Natural Language \\nProcessing (NLP) and Large Language Models (LLM), addresses these challenges. LangChain simplifies the \\nquerying process and information extraction from PDFs using advanced NLP algorithms. To cr eate a user -\\nfriendly interface, LangChain utilizes Streamlit, a web application framework that eliminates the need for \\nexpertise in other web development frameworks like HTML and CSS. Streamlit enables the seamless \\ndeployment of models with minimal coding effort. With LangChain and Streamlit, users can easily interact with \\nPDFs, making document search and retrieval significantly more convenient.  The PDF Query App Project uses \\nLanguage Models (LLMs) and LangChain, a cutting -edge language processing tool, to transform how users', metadata={'source': '../rag/langchain-assist.pdf', 'page': 0}),\n",
       " Document(page_content='interact with PDF documents. By allowing users to have interactive conversations with PDF documents, this \\nproject solves the fundamental drawbacks of conventional PDF readers. This description highlights the problem \\nstatement and the so lution while also giving a general overview of the project.  \\nII. LITRATURE SURVEY  \\nThe literature review for the project \"LangChain PDF Query\" focuses on exploring relevant research and \\ntechnologies related to language models, natural language processing, AI advancements  and query systems.  \\nJonas Gehring et .al.,[1] In the realm of sequence -to-sequence learning, presented \"Convolutional Sequence to \\nSequence Learning,\" which showcased a novel approach to modeling sequences using convolutional neural \\nnetworks, of fering insights into how language structures can be better understood and represented.  Attention \\nmechanisms have revolutionized language models, as demonstrated in \"Attention Is All You Need\" by Ashish', metadata={'source': '../rag/langchain-assist.pdf', 'page': 0}),\n",
       " Document(page_content='Vaswani et . al., [2]. Their transformative \"transforme r\" architecture enabled highly efficient and effective \\nattention -based models for various NLP tasks, paving the way for advanced query systems.  While exploring AI \\napplications in the legal domain, Jules Ioannidis et al. , [3] introduced \"Gracenote.ai,\" an A I system designed for \\nregulatory compliance. This research highlights the potential of generative AI in addressing complex legal \\nchallenges.  For specific use cases, Na He et al. , [4] showed that \"Chat GPT -4\" outperformed GPT -3.5 in drug \\ninformation queries , indicating the continuous advancements in language models for domain -specific \\ninformation retrieval.  Efficient keyword search over encrypted cloud data is crucial for data privacy and \\nsecurity. Anuradha & Patil ., [5] presented an approach for such search, contributing insights into secure \\ninformation retrieval in cloud environments.', metadata={'source': '../rag/langchain-assist.pdf', 'page': 0}),\n",
       " Document(page_content='e-ISSN: 2582 -5208 \\nInternatio nal  Research Journal  of  Modernization in Engineering Technology  and  Science  \\n( Peer -Reviewed, Open Access, Fully Refereed International Journal )  \\nVolume:05/Issue:07/July -2023                   Impact Factor - 7.868                                    www .irjmets.com                        \\nwww.irjmets.com                               @International Research Journal of Modernization in Engineering, Technology and Science  \\n [2797 ] \\nAddressing the challenges of big data, Madhu Nashipudimath et al. , [6] proposed an integration and indexing \\nmethod based on feature patte rns and semantic analysis. This research offers valuable techniques to efficiently \\nmanage and query large datasets.  In the scientific literature domain, Zhu and Cole ., [7] developed a tool for', metadata={'source': '../rag/langchain-assist.pdf', 'page': 1}),\n",
       " Document(page_content='reading scientific text and interpreting metadata from typeset literature in PDF format. This tool demonstrates \\nadvancements in information extraction from scientific documents.  To implement the project, it is essential to \\nconsider the platforms and tools available. Streamlit ., [8] provides a user -friendly interface f or data \\nvisualization and interaction, while Python LangChain ., [9] offers comprehensive documentation for integrating \\nlanguage models into applications.  OpenAI\\'s models [10],  including GPT -3.5, serve as a crucial foundation for \\nlanguage -based AI applicati ons. Adith Sreeram A S and Pappuri Jithendra Sai , [11]  presented an effective query \\nsystem using language models and LangChain, which can be insightful for developing the LangChain PDF Query.  \\nIn conclusion, this literature review has provided a comprehensi ve understanding of the research and \\ntechnologies relevant to the project \"LangChain PDF Query.\" It covered sequence -to-sequence learning,', metadata={'source': '../rag/langchain-assist.pdf', 'page': 1}),\n",
       " Document(page_content='attention -based models, AI in legal compliance, domain -specific information retrieval, secure cloud data search, \\nbig data processing, scientific literature analysis  and essential tools for implementation. These valuable insights \\nwill guide the development of an efficient and effective query system using LangChain and language models, \\ncontributing to the advancement of AI -driven natural language processing.  \\nIII. METHODOLOGY  \\nLanChain helps us with the querying process and extracting information from the PDF based on the prompt \\nsent by the user. For the sake of convenience, a web application is developed that can retrieve accurate \\ninformation based on the user’s input alone.  \\n \\nFigure 1. Application Architecture  \\n2.1 Steps followed in the Application Architechture:  \\nStep l: The Open Al Large Language Models and The Open Al Embeddings acts as the back -end of our \\napplication.', metadata={'source': '../rag/langchain-assist.pdf', 'page': 1}),\n",
       " Document(page_content='application.  \\nStep II: Here we will use Streamlit, which will help us to build interactive and beautiful interface for our web \\napplication.  \\nStep Ill: Streamlit will also take care of our Front -end part where we can get the text inputs and messages and \\nalso the PDF files from the user.', metadata={'source': '../rag/langchain-assist.pdf', 'page': 1}),\n",
       " Document(page_content='e-ISSN: 2582 -5208 \\nInternatio nal  Research Journal  of  Modernization in Engineering Technology  and  Science  \\n( Peer -Reviewed, Open Access, Fully Refereed International Journal )  \\nVolume:05/Issue:07/July -2023                   Impact Factor - 7.868                                    www .irjmets.com                        \\nwww.irjmets.com                               @International Research Journal of Modernization in Engineering, Technology and Science  \\n [2798 ] \\n \\nFigure 2. Working Process.  \\nWith the help of Fig  2 we can understand how Larg e Language Model helps the user to get the accurate results.  \\n2.2 Streamlit  \\nStreamlit is an open -source library that allows us to unique web apps for Machine Learning and Data Science \\nprojects fast and efficient. Streamlit is an open -source library that allows us to unique web apps for Machine', metadata={'source': '../rag/langchain-assist.pdf', 'page': 2}),\n",
       " Document(page_content='Learning and Data Science projects fast and efficient. With this framework, you can easily build interactive \\nvisualizat ion plots, models  and dashboards without having a worry about the underlying web framework or \\ndeployment infrastructure used in the backend. It also provides the users to add widgets which helps the users \\nthe interact with the web app and the models that w e used. This framework also integrates the popular python \\nand machine learning packages such as NumPy, Pandas, Matplotlib, Seaborn, Scikit -learn and TensorFlow, \\nwhich enables us to quickly build and deploy our trained models. Features of Streamlit:  \\nUser -friendly:  Streamlit offers an easy -to-use interface that requires little scripting to build dynamic data apps.  \\nRapid prototyping:  Streamlit is made for rapid prototyping, allowing developers and data scientists to test out \\nvarious concepts and create comp letely functional apps.', metadata={'source': '../rag/langchain-assist.pdf', 'page': 2}),\n",
       " Document(page_content='Data Cache:  The data cache facilitates and accelerates computational workflows.  \\nReal -time collaboration is made possible by Streamlit, allowing several users to work on the same project at \\nonce. Widgets that enable for real -time d ata editing and exploration include sliders, dropdown menus  and \\ncheckboxes, among a vast variety of interactive widgets that Streamlit offers.  \\nIV. RESULTS AND DISCUSSIO N \\n \\nFigure 3 . Interface of web Tool  \\nThis is how the interface of our web Tool will look like. Now the user can click on browse files and can upload a \\nfile from their device under 200 Mega Bytes. After few minutes of processing, we will get an additional in box \\nwhere we can give in our query.', metadata={'source': '../rag/langchain-assist.pdf', 'page': 2}),\n",
       " Document(page_content='e-ISSN: 2582 -5208 \\nInternatio nal  Research Journal  of  Modernization in Engineering Technology  and  Science  \\n( Peer -Reviewed, Open Access, Fully Refereed International Journal )  \\nVolume:05/Issue:07/July -2023                   Impact Factor - 7.868                                    www .irjmets.com                        \\nwww.irjmets.com                               @International Research Journal of Modernization in Engineering, Technology and Science  \\n [2799 ] \\n \\nFigure 4 . Image of web Tool with input query box.  \\nSo, now we got our input query box and now we can ask questions on the PDF that we have uploaded. Here I \\nhave uploaded a PDF based on Cloud Computing. Now you can ask differe nt questions like “What is cloud \\ncomputing?”, “What are the Architectural styles based on independent components?” and also differentiate \\nbetween questions.', metadata={'source': '../rag/langchain-assist.pdf', 'page': 3}),\n",
       " Document(page_content='Figure 5 . The Output that we got for our 1st Query  \\n \\nFigure 6 . The Output that we got for our 2 nd Query', metadata={'source': '../rag/langchain-assist.pdf', 'page': 3}),\n",
       " Document(page_content='e-ISSN: 2582 -5208 \\nInternatio nal  Research Journal  of  Modernization in Engineering Technology  and  Science  \\n( Peer -Reviewed, Open Access, Fully Refereed International Journal )  \\nVolume:05/Issue:07/July -2023                   Impact Factor - 7.868                                    www .irjmets.com                        \\nwww.irjmets.com                               @International Research Journal of Modernization in Engineering, Technology and Science  \\n [2800 ] \\nHere we got our output for our 1st and 2nd query which is “What is Cloud Computing?” and “What are the \\nArchitectural styles based on independent components?” our Large Language Model went through file and gave \\nan accurate result on the query given.  \\n \\nFigure 7 . The output we got for Different Question', metadata={'source': '../rag/langchain-assist.pdf', 'page': 4}),\n",
       " Document(page_content='The output \"I don\\'t know the answer to  the question\" indicates that the Large Language Model couldn\\'t find an \\naccurate response to the query \"what is big data analytics?\" within the provided PDF. Despite analyzing the \\ncontent of the file, the model couldn\\'t retrieve a satisfactory result in relation to the specific query.  \\nV. CONCLUSION  \\nThe Tool that leverages LangChain, Large Language Models  and Streamlit to streamline the extraction of \\npertinent information from PDFs. This innovative solution significantly simplifies and enhances the process, \\nallowing users to retrieve any desired information from PDF documents while saving ti me and effort. By \\nintegrating LangChain technology, the app introduces a heightened level of efficiency and accuracy to the \\nquerying process, making it an invaluable tool for individuals working with PDFs. Users can effortlessly extract \\nrelevant data, impr oving productivity and reducing the manual effort traditionally required for PDF document', metadata={'source': '../rag/langchain-assist.pdf', 'page': 4}),\n",
       " Document(page_content='analysis. The user -friendly interface and intuitive features provided by Streamlit further enhance the overall \\nuser experience. Our web application empowers users to efficiently navigate and retrieve information from \\nPDFs, transforming the way PDF querying is performed and revolutionizing the accessibility and usability of \\nPDF documents.  \\nVI. REFERENCES  \\n[1] Jonas Gehring,  Michael Auli,  David Grangier,  Denis Yarats,  Yann N. Dauphin: “Convolutional Sequence \\nto Sequence Learning”, arXiv: [v1] Mon, 8 May 2017 23:25:30 UTC (1,489 KB) [v2]  Fri,12May 2017 \\n16:14:26 UTC (492 KB) [v3]  Tue, 25 Jul 2017 01:40:57 UTC (492 KB).  \\n[2] Ashish  Vaswani, Noam Shazeer Niki Pannar, Jakob Llion Jones, Aidan N. Gomez, Lukasz Kaiser, Illia \\nPolosukhin: “Attention Is All You Need” arXiv: [v1] Mon, 12 Jun 2017 17:57:34 UTC (1,102 \\nKB)[v2]  Mon, 19 Jun 2017  16:49:45 UTC (1,125 KB) [v3]  Tue, 20 Jun 2017 05:20:02 UTC (1,125 \\nKB)[v4]  Fri, 30 Jun 2017 17:29:30 UTC (1,124 KB )', metadata={'source': '../rag/langchain-assist.pdf', 'page': 4}),\n",
       " Document(page_content=\"[3] Jules Ioannidis, Joshua Harper, Min g Sheng Quah I and Dan Hunter I: “Gracenote.ai: Legal Generative AI \\nfor Regulatory Compliance” v1 Gracenote -ai- Melboume Australia v2 The Dlckson Poon School of Law, \\nKing's College London, United Kingdom June 19, 2023.  \\n[4] Na He, Yingying Yan, Ziyang Wul C heng, Fang Liu:” Chat GPT -4 significantly surpasses GPT -3.5 in drug \\ninformation queries”, National Library of Medicine, June 2023.  \\n[5] Anuradha & Patil, G A (2016):” Efficient Keyword Search over Encrypted Cloud Data - Procedia \\nComputer Science.”, Science  Direct, Volume 78, 2016, Pages 139 -145,23 -02-2016.\", metadata={'source': '../rag/langchain-assist.pdf', 'page': 4}),\n",
       " Document(page_content='e-ISSN: 2582 -5208 \\nInternatio nal  Research Journal  of  Modernization in Engineering Technology  and  Science  \\n( Peer -Reviewed, Open Access, Fully Refereed International Journal )  \\nVolume:05/Issue:07/July -2023                   Impact Factor - 7.868                                    www .irjmets.com                        \\nwww.irjmets.com                               @International Research Journal of Modernization in Engineering, Technology and Science  \\n [2801 ] \\n[6] Madhu Nashipudimath, Subhash Shinde, Jayshree Jain: “An efficient integration and indexing method \\nbased on feature pattens and semantic analysis for big data.”, Research Gate,June 2020.  \\n[7] Zhu, Miao & Cole, Jacqueline. (2022): “A Tool for Reading Scientific Text and Interpreting Metadata \\nfrom the Typeset Literature in the Portable Document Format.” Joumal of Chemical Information and', metadata={'source': '../rag/langchain-assist.pdf', 'page': 5}),\n",
       " Document(page_content='Modeling, March 29, 2022.  \\n[8] https://streamlit.io/ , May 2023.  \\n[9] https://python.langchain.com/docs/get_started/introduction.html , April 2023.  \\n[10] http s://platform.openai.com/docs/models , June 2023.  \\n[11] Adith Sreeram A S, Pappuri Jithendra Sai: “An Effective Query System Using LLMs and \\nLangChain”,  IJERT, olume 12, Issue 06 (June 2023).', metadata={'source': '../rag/langchain-assist.pdf', 'page': 5})]"
      ]
     },
     "execution_count": 5,
     "metadata": {},
     "output_type": "execute_result"
    }
   ],
   "source": [
    "documents = text_splitter.split_documents(docs)\n",
    "documents"
   ]
  },
  {
   "cell_type": "code",
   "execution_count": 8,
   "metadata": {},
   "outputs": [],
   "source": [
    "from langchain_openai import OpenAIEmbeddings\n",
    "# from langchain_community.embeddings import OllamaEmbeddings\n",
    "from langchain_community.vectorstores import FAISS\n",
    "\n",
    "db = FAISS.from_documents(documents=documents[:30],\n",
    "                          embedding=OpenAIEmbeddings()\n",
    ")\n"
   ]
  },
  {
   "cell_type": "code",
   "execution_count": 10,
   "metadata": {},
   "outputs": [
    {
     "data": {
      "text/plain": [
       "<langchain_community.vectorstores.faiss.FAISS at 0x253faa3f760>"
      ]
     },
     "execution_count": 10,
     "metadata": {},
     "output_type": "execute_result"
    }
   ],
   "source": [
    "db"
   ]
  },
  {
   "cell_type": "code",
   "execution_count": 9,
   "metadata": {},
   "outputs": [
    {
     "data": {
      "text/plain": [
       "'*3Professor , Master Of Computer Applications , Bangalore Institute Of Technology , Bangalore , India . \\nDOI : https://www.doi.org/10.56726/IRJMETS43587  \\nABSTRACT  \\nDue to the unstructured nature of the PDF document format and the requirement for precise and pertinent \\nsearch results, querying a PDF can take time and effort. LangChain overcomes these challenges by utilizing \\nadvanced natural language processing algorithms that analyze the content of the PDFs and extract essential \\ninformation. To improve the search experience, it uses effective indexing and retrieval techniques, movable \\nfilters  and a simple search int erface. LangChain also allows users to save queries, create bookmarks  and \\nannotate important sections, enabling efficient retrieval of relevant information from PDF documents. The \\nfeatures of LangChain increase overall efficiency and makes PDF querying muc h easier and simpler.  \\nKeywords : LangChain, Querying PDF, Machine Translation, Streamlit.'"
      ]
     },
     "execution_count": 9,
     "metadata": {},
     "output_type": "execute_result"
    }
   ],
   "source": [
    "query = \"langchain pdf query\"\n",
    "result = db.similarity_search(query)\n",
    "result[0].page_content"
   ]
  },
  {
   "cell_type": "code",
   "execution_count": 11,
   "metadata": {},
   "outputs": [
    {
     "data": {
      "text/plain": [
       "Ollama(model='llama3')"
      ]
     },
     "execution_count": 11,
     "metadata": {},
     "output_type": "execute_result"
    }
   ],
   "source": [
    "from langchain_community.llms import Ollama\n",
    "\n",
    "llm = Ollama(model=\"llama3\")\n",
    "llm "
   ]
  },
  {
   "cell_type": "code",
   "execution_count": 13,
   "metadata": {},
   "outputs": [],
   "source": [
    "# Design ChatPrompt Template\n",
    "from langchain_core.prompts import ChatPromptTemplate\n",
    "\n",
    "prompt = ChatPromptTemplate.from_template(\n",
    "    \"\"\"\n",
    "    Answer the following questions based only on the provided question.\n",
    "    Think step by step before providing a detailed answer.\n",
    "    <context>\n",
    "    {context}\n",
    "    <context>\n",
    "    Question: {input}\n",
    "    \"\"\"\n",
    ")\n",
    "# context are the documents available in the vectorstore"
   ]
  },
  {
   "cell_type": "code",
   "execution_count": 16,
   "metadata": {},
   "outputs": [],
   "source": [
    "## Create stuff document chain\n",
    "\n",
    "from langchain.chains.combine_documents import create_stuff_documents_chain\n",
    "\n",
    "document_chain = create_stuff_documents_chain(llm, prompt)"
   ]
  },
  {
   "cell_type": "markdown",
   "metadata": {},
   "source": [
    "A retriever is an interface that returns documents given an unstructured query. It is more general than a vector store. A retriever does not need to be able to store documents, only to return (or retrieve) them. Vector stores can be used as the backbone of a retriever, but there are other types of retrievers as well.\n",
    "\n",
    "https://python.langchain.com/v0.1/docs/modules/data_connection/retrievers/"
   ]
  },
  {
   "cell_type": "code",
   "execution_count": 17,
   "metadata": {},
   "outputs": [
    {
     "data": {
      "text/plain": [
       "VectorStoreRetriever(tags=['FAISS', 'OpenAIEmbeddings'], vectorstore=<langchain_community.vectorstores.faiss.FAISS object at 0x00000253FAA3F760>)"
      ]
     },
     "execution_count": 17,
     "metadata": {},
     "output_type": "execute_result"
    }
   ],
   "source": [
    "retriever = db.as_retriever()\n",
    "retriever"
   ]
  },
  {
   "cell_type": "markdown",
   "metadata": {},
   "source": [
    "**Retrieval chain**: This chain takes in a user inquiry, which is then\n",
    "passed to the retriever to fetch relevant documents. Those documents \n",
    "(and original inputs) are then passed to an LLM to generate a response.\n",
    "\n",
    "\n",
    "https://python.langchain.com/docs/modules/chains/"
   ]
  },
  {
   "cell_type": "code",
   "execution_count": 18,
   "metadata": {},
   "outputs": [],
   "source": [
    "from langchain.chains import create_retrieval_chain\n",
    "\n",
    "retrieval_chain = create_retrieval_chain(retriever, document_chain)"
   ]
  },
  {
   "cell_type": "code",
   "execution_count": 39,
   "metadata": {},
   "outputs": [
    {
     "data": {
      "text/plain": [
       "{'input': 'what educational institution are the authors from?',\n",
       " 'context': [Document(page_content='e-ISSN: 2582 -5208 \\nInternatio nal  Research Journal  of  Modernization in Engineering Technology  and  Science  \\n( Peer -Reviewed, Open Access, Fully Refereed International Journal )  \\nVolume:05/Issue:07/July -2023                   Impact Factor - 7.868                                    www .irjmets.com                        \\nwww.irjmets.com                               @International Research Journal of Modernization in Engineering, Technology and Science  \\n [2796 ] \\nLANGCHAIN -POWERED VIRTUAL ASSISTANT FOR PDF  \\nCOMMUNICATION  \\nNR Tejaswini*1, Vidya S*2, Dr. T Vijaya Kumar*3 \\n*1Student , Master Of Computer Applications , Bangalore Institute Of Technology , Bangalore , India . \\n*2Assistant  Professor , Master Of Computer Applications , Bangalore Institute Of  \\nTechnology , Bangalore , India .', metadata={'source': '../rag/langchain-assist.pdf', 'page': 0}),\n",
       "  Document(page_content='e-ISSN: 2582 -5208 \\nInternatio nal  Research Journal  of  Modernization in Engineering Technology  and  Science  \\n( Peer -Reviewed, Open Access, Fully Refereed International Journal )  \\nVolume:05/Issue:07/July -2023                   Impact Factor - 7.868                                    www .irjmets.com                        \\nwww.irjmets.com                               @International Research Journal of Modernization in Engineering, Technology and Science  \\n [2800 ] \\nHere we got our output for our 1st and 2nd query which is “What is Cloud Computing?” and “What are the \\nArchitectural styles based on independent components?” our Large Language Model went through file and gave \\nan accurate result on the query given.  \\n \\nFigure 7 . The output we got for Different Question', metadata={'source': '../rag/langchain-assist.pdf', 'page': 4}),\n",
       "  Document(page_content='e-ISSN: 2582 -5208 \\nInternatio nal  Research Journal  of  Modernization in Engineering Technology  and  Science  \\n( Peer -Reviewed, Open Access, Fully Refereed International Journal )  \\nVolume:05/Issue:07/July -2023                   Impact Factor - 7.868                                    www .irjmets.com                        \\nwww.irjmets.com                               @International Research Journal of Modernization in Engineering, Technology and Science  \\n [2801 ] \\n[6] Madhu Nashipudimath, Subhash Shinde, Jayshree Jain: “An efficient integration and indexing method \\nbased on feature pattens and semantic analysis for big data.”, Research Gate,June 2020.  \\n[7] Zhu, Miao & Cole, Jacqueline. (2022): “A Tool for Reading Scientific Text and Interpreting Metadata \\nfrom the Typeset Literature in the Portable Document Format.” Joumal of Chemical Information and', metadata={'source': '../rag/langchain-assist.pdf', 'page': 5}),\n",
       "  Document(page_content='e-ISSN: 2582 -5208 \\nInternatio nal  Research Journal  of  Modernization in Engineering Technology  and  Science  \\n( Peer -Reviewed, Open Access, Fully Refereed International Journal )  \\nVolume:05/Issue:07/July -2023                   Impact Factor - 7.868                                    www .irjmets.com                        \\nwww.irjmets.com                               @International Research Journal of Modernization in Engineering, Technology and Science  \\n [2799 ] \\n \\nFigure 4 . Image of web Tool with input query box.  \\nSo, now we got our input query box and now we can ask questions on the PDF that we have uploaded. Here I \\nhave uploaded a PDF based on Cloud Computing. Now you can ask differe nt questions like “What is cloud \\ncomputing?”, “What are the Architectural styles based on independent components?” and also differentiate \\nbetween questions.', metadata={'source': '../rag/langchain-assist.pdf', 'page': 3})],\n",
       " 'answer': 'Based on the provided context, I can answer your question as follows:\\n\\nThe authors NR Tejaswini, Vidya S, and Dr. T Vijaya Kumar are from Bangalore Institute Of Technology (BIT), Bangalore, India.'}"
      ]
     },
     "execution_count": 39,
     "metadata": {},
     "output_type": "execute_result"
    }
   ],
   "source": [
    "response = retrieval_chain.invoke(\n",
    "    {\"input\": \"what educational institution are the authors from?\"}\n",
    ")\n",
    "response"
   ]
  },
  {
   "cell_type": "code",
   "execution_count": 40,
   "metadata": {},
   "outputs": [
    {
     "data": {
      "text/markdown": [
       "Based on the provided context, I can answer your question as follows:\n",
       "\n",
       "The authors NR Tejaswini, Vidya S, and Dr. T Vijaya Kumar are from Bangalore Institute Of Technology (BIT), Bangalore, India."
      ],
      "text/plain": [
       "<IPython.core.display.Markdown object>"
      ]
     },
     "metadata": {},
     "output_type": "display_data"
    }
   ],
   "source": [
    "from IPython.display import display, Markdown\n",
    "\n",
    "display(Markdown(response['answer']))"
   ]
  }
 ],
 "metadata": {
  "kernelspec": {
   "display_name": "langchain-env",
   "language": "python",
   "name": "python3"
  },
  "language_info": {
   "codemirror_mode": {
    "name": "ipython",
    "version": 3
   },
   "file_extension": ".py",
   "mimetype": "text/x-python",
   "name": "python",
   "nbconvert_exporter": "python",
   "pygments_lexer": "ipython3",
   "version": "3.10.14"
  }
 },
 "nbformat": 4,
 "nbformat_minor": 2
}
